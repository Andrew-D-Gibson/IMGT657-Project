{
 "cells": [
  {
   "cell_type": "code",
   "execution_count": 1,
   "id": "6139abea",
   "metadata": {},
   "outputs": [
    {
     "name": "stderr",
     "output_type": "stream",
     "text": [
      "2023-08-09 08:25:04,012\tINFO util.py:159 -- Missing packages: ['ipywidgets']. Run `pip install -U ipywidgets`, then restart the notebook server for rich notebook output.\n"
     ]
    }
   ],
   "source": [
    "import os\n",
    "os.environ['TF_CPP_MIN_LOG_LEVEL'] = '3'\n",
    "\n",
    "import ray\n",
    "import time\n",
    "import tensorflow as tf\n",
    "from head_to_head_match import head_to_head_match, head_to_head_game\n",
    "from TrainingManager import TrainingManager\n",
    "from simulate_self_play_games import simulate_self_play_games\n",
    "\n",
    "from Config import *\n",
    "\n",
    "tf.compat.v1.disable_eager_execution()"
   ]
  },
  {
   "cell_type": "code",
   "execution_count": 2,
   "id": "e0c050f7",
   "metadata": {},
   "outputs": [
    {
     "name": "stderr",
     "output_type": "stream",
     "text": [
      "2023-08-09 08:25:06,316\tINFO worker.py:1621 -- Started a local Ray instance.\n"
     ]
    },
    {
     "name": "stdout",
     "output_type": "stream",
     "text": [
      "Simulating games:\n",
      "\u001b[2m\u001b[36m(simulate_self_play_games pid=1889164)\u001b[0m 1/8, \n",
      "\u001b[2m\u001b[36m(simulate_self_play_games pid=1889167)\u001b[0m 4/8, \u001b[32m [repeated 98x across cluster] (Ray deduplicates logs by default. Set RAY_DEDUP_LOGS=0 to disable log deduplication, or see https://docs.ray.io/en/master/ray-observability/ray-logging.html#log-deduplication for more options.)\u001b[0m\n",
      "\u001b[2m\u001b[36m(simulate_self_play_games pid=1889166)\u001b[0m 7/8, \u001b[32m [repeated 95x across cluster]\u001b[0m\n",
      "\u001b[2m\u001b[36m(simulate_self_play_games pid=1889165)\u001b[0m 3/8, \u001b[32m [repeated 65x across cluster]\u001b[0m\n",
      "\u001b[2m\u001b[36m(simulate_self_play_games pid=1889165)\u001b[0m 7/8, \u001b[32m [repeated 4x across cluster]\u001b[0m\n",
      "Time taken: 25.920920610427856 seconds\n",
      "\u001b[2m\u001b[36m(simulate_self_play_games pid=1889165)\u001b[0m 8/8, \n"
     ]
    }
   ],
   "source": [
    "#manager = TrainingManager()\n",
    "#manager.train()\n",
    "\n",
    "N = 33\n",
    "\n",
    "ray.init()\n",
    "\n",
    "start_time = time.time()\n",
    "\n",
    "print('Simulating games:')\n",
    "new_examples = [simulate_self_play_games.remote() for _ in range(N)]\n",
    "new_examples = ray.get(new_examples)\n",
    "\n",
    "print(f'Time taken: {time.time() - start_time} seconds')\n",
    "\n",
    "ray.shutdown()"
   ]
  }
 ],
 "metadata": {
  "kernelspec": {
   "display_name": "imgt",
   "language": "python",
   "name": "imgt"
  },
  "language_info": {
   "codemirror_mode": {
    "name": "ipython",
    "version": 3
   },
   "file_extension": ".py",
   "mimetype": "text/x-python",
   "name": "python",
   "nbconvert_exporter": "python",
   "pygments_lexer": "ipython3",
   "version": "3.9.17"
  }
 },
 "nbformat": 4,
 "nbformat_minor": 5
}
