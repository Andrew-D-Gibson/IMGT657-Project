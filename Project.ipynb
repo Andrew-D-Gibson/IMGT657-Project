{
 "cells": [
  {
   "cell_type": "code",
   "execution_count": 1,
   "id": "6139abea",
   "metadata": {},
   "outputs": [],
   "source": [
    "import os\n",
    "os.environ['TF_CPP_MIN_LOG_LEVEL'] = '3'\n",
    "\n",
    "import random     \n",
    "import numpy as np\n",
    "import tensorflow as tf\n",
    "import time\n",
    "\n",
    "from TicTacToe import TicTacToe\n",
    "from MCTS import MCTS\n",
    "from simulate_self_play_games import simulate_self_play_games\n",
    "from head_to_head_match import head_to_head_match\n",
    "from TrainingManager import TrainingManager\n",
    "\n",
    "from Config import *\n",
    "\n",
    "tf.compat.v1.disable_eager_execution()\n",
    "#tf.compat.v1.logging.set_verbosity(tf.compat.v1.logging.ERROR)"
   ]
  },
  {
   "cell_type": "code",
   "execution_count": 6,
   "metadata": {},
   "outputs": [
    {
     "name": "stdout",
     "output_type": "stream",
     "text": [
      "MCTS Node:\n",
      " _  _  _ \n",
      "\n",
      " _  _  _     X's move\n",
      "\n",
      " _  _  _ \n",
      "\n",
      "Total Value: 16791\n",
      "Node Visits: 46648\n",
      "\n",
      "Child Moves:\n",
      "8.00\t7.00\t6.00\t\n",
      "\n",
      "5.00\t4.00\t3.00\t\n",
      "\n",
      "2.00\t1.00\t0.00\t\n",
      "\n",
      "\n",
      "Raw Search Probs:\n",
      "1.00\t1.00\t1.00\t\n",
      "\n",
      "1.00\t1.00\t1.00\t\n",
      "\n",
      "1.00\t1.00\t1.00\t\n",
      "\n",
      "\n",
      "Pi:\n",
      "0.07\t0.05\t0.08\t\n",
      "\n",
      "0.05\t0.48\t0.05\t\n",
      "\n",
      "0.08\t0.05\t0.08\t\n",
      "\n"
     ]
    }
   ],
   "source": [
    "#mcts = MCTS(keras_model=TicTacToe.get_keras_model())\n",
    "mcts = MCTS()\n",
    "mcts.search(seconds_to_search = 10)\n",
    "\n",
    "mcts.print()"
   ]
  }
 ],
 "metadata": {
  "kernelspec": {
   "display_name": "tf",
   "language": "python",
   "name": "tf"
  },
  "language_info": {
   "codemirror_mode": {
    "name": "ipython",
    "version": 3
   },
   "file_extension": ".py",
   "mimetype": "text/x-python",
   "name": "python",
   "nbconvert_exporter": "python",
   "pygments_lexer": "ipython3",
   "version": "3.9.17"
  }
 },
 "nbformat": 4,
 "nbformat_minor": 5
}
