{
 "cells": [
  {
   "cell_type": "code",
   "execution_count": 1,
   "id": "6139abea",
   "metadata": {},
   "outputs": [
    {
     "name": "stderr",
     "output_type": "stream",
     "text": [
      "2023-08-01 13:11:44.030536: I tensorflow/core/util/port.cc:110] oneDNN custom operations are on. You may see slightly different numerical results due to floating-point round-off errors from different computation orders. To turn them off, set the environment variable `TF_ENABLE_ONEDNN_OPTS=0`.\n",
      "2023-08-01 13:11:44.081089: I tensorflow/core/platform/cpu_feature_guard.cc:182] This TensorFlow binary is optimized to use available CPU instructions in performance-critical operations.\n",
      "To enable the following instructions: AVX2 AVX_VNNI FMA, in other operations, rebuild TensorFlow with the appropriate compiler flags.\n",
      "2023-08-01 13:11:44.808282: W tensorflow/compiler/tf2tensorrt/utils/py_utils.cc:38] TF-TRT Warning: Could not find TensorRT\n"
     ]
    }
   ],
   "source": [
    "import random     \n",
    "import numpy as np\n",
    "import tensorflow as tf\n",
    "\n",
    "from TicTacToe import TicTacToe\n",
    "from MCTS import MCTS\n",
    "from simulate_self_play_games import simulate_self_play_games\n",
    "from head_to_head_match import head_to_head_match\n",
    "from TrainingManager import TrainingManager\n",
    "\n",
    "from Config import *\n",
    "\n",
    "#tf.compat.v1.disable_eager_execution()"
   ]
  },
  {
   "cell_type": "code",
   "execution_count": 2,
   "id": "61ccce85",
   "metadata": {},
   "outputs": [
    {
     "name": "stderr",
     "output_type": "stream",
     "text": [
      "2023-08-01 13:11:47.058258: E tensorflow/compiler/xla/stream_executor/cuda/cuda_driver.cc:266] failed call to cuInit: CUDA_ERROR_UNKNOWN: unknown error\n",
      "2023-08-01 13:11:47.058293: I tensorflow/compiler/xla/stream_executor/cuda/cuda_diagnostics.cc:168] retrieving CUDA diagnostic information for host: drew-lenovo\n",
      "2023-08-01 13:11:47.058299: I tensorflow/compiler/xla/stream_executor/cuda/cuda_diagnostics.cc:175] hostname: drew-lenovo\n",
      "2023-08-01 13:11:47.058401: I tensorflow/compiler/xla/stream_executor/cuda/cuda_diagnostics.cc:199] libcuda reported version is: 535.86.5\n",
      "2023-08-01 13:11:47.058419: I tensorflow/compiler/xla/stream_executor/cuda/cuda_diagnostics.cc:203] kernel reported version is: 535.86.5\n",
      "2023-08-01 13:11:47.058424: I tensorflow/compiler/xla/stream_executor/cuda/cuda_diagnostics.cc:309] kernel version seems to match DSO: 535.86.5\n"
     ]
    },
    {
     "name": "stdout",
     "output_type": "stream",
     "text": [
      "\n",
      "\n",
      "--------- Episode  0  ---------\n",
      "Simulating games...\n",
      "68 examples generated.\n",
      "\n",
      "Training on examples:\n",
      " Minibatch Policy Acc: 0.45588234066963196, Value Acc: 0.6617646813392639\n",
      "New network against old network (testing for improvement): \n",
      "W/D/L: 10  /  0  /  10\n",
      "Maintaining old network.  Can't compete with the best\n",
      "Best network against MCTS: \n",
      "W/D/L: 5  /  2  /  13\n",
      "Total episode time:  92.65458154678345\n",
      "\n",
      "\n",
      "--------- Episode  1  ---------\n",
      "Simulating games...\n",
      "67 examples generated.\n",
      "\n",
      "Training on examples:\n",
      " Minibatch Policy Acc: 0.5820895433425903, Value Acc: 0.5223880410194397\n",
      "New network against old network (testing for improvement): \n",
      "W/D/L: 20  /  0  /  0\n",
      "Replacing network!  Great success\n"
     ]
    },
    {
     "name": "stderr",
     "output_type": "stream",
     "text": [
      "WARNING:absl:Function `_wrapped_model` contains input name(s) TTT_input with unsupported characters which will be renamed to ttt_input in the SavedModel.\n",
      "WARNING:absl:Found untraced functions such as _update_step_xla while saving (showing 1 of 1). These functions will not be directly callable after loading.\n"
     ]
    },
    {
     "name": "stdout",
     "output_type": "stream",
     "text": [
      "INFO:tensorflow:Assets written to: Networks/Episode_1/assets\n"
     ]
    },
    {
     "name": "stderr",
     "output_type": "stream",
     "text": [
      "INFO:tensorflow:Assets written to: Networks/Episode_1/assets\n"
     ]
    },
    {
     "name": "stdout",
     "output_type": "stream",
     "text": [
      "Best network against MCTS: \n",
      "W/D/L: 11  /  0  /  9\n",
      "Total episode time:  90.78642582893372\n"
     ]
    }
   ],
   "source": [
    "manager = TrainingManager()\n",
    "manager.train()"
   ]
  },
  {
   "cell_type": "code",
   "execution_count": 5,
   "id": "638dcbbe",
   "metadata": {
    "scrolled": true
   },
   "outputs": [
    {
     "name": "stdout",
     "output_type": "stream",
     "text": [
      "100\n",
      "[0.12, 0.12, 0.12, 0.09, 0.12, 0.11, 0.12, 0.1, 0.1]\n",
      "[0, 1, 2, 3, 4, 5, 6, 7, 8]\n",
      "0\n",
      "0\n",
      " _  _  _ \n",
      "\n",
      " _  _  _     O's move\n",
      "\n",
      " _  _  x \n",
      "\n",
      "\n",
      "\n",
      "112\n",
      "[0.11607142857142858, 0.13392857142857142, 0.11607142857142858, 0.14285714285714285, 0.13392857142857142, 0.125, 0.125, 0.10714285714285714]\n",
      "[1, 2, 3, 4, 5, 6, 7, 8]\n",
      "3\n",
      "4\n",
      " _  _  _ \n",
      "\n",
      " _  o  _     X's move\n",
      "\n",
      " _  _  x \n",
      "\n",
      "\n",
      "\n",
      "116\n",
      "[0.15517241379310345, 0.15517241379310345, 0.15517241379310345, 0.14655172413793102, 0.13793103448275862, 0.11206896551724138, 0.13793103448275862]\n",
      "[1, 2, 3, 5, 6, 7, 8]\n",
      "0\n",
      "1\n",
      " _  _  _ \n",
      "\n",
      " _  o  _     O's move\n",
      "\n",
      " _  x  x \n",
      "\n",
      "\n",
      "\n",
      "118\n",
      "[0.2033898305084746, 0.1694915254237288, 0.16101694915254236, 0.1864406779661017, 0.13559322033898305, 0.1440677966101695]\n",
      "[2, 3, 5, 6, 7, 8]\n",
      "0\n",
      "2\n",
      " _  _  _ \n",
      "\n",
      " _  o  _     X's move\n",
      "\n",
      " o  x  x \n",
      "\n",
      "\n",
      "\n",
      "124\n",
      "[0.20161290322580644, 0.1935483870967742, 0.27419354838709675, 0.1532258064516129, 0.1774193548387097]\n",
      "[3, 5, 6, 7, 8]\n",
      "2\n",
      "6\n",
      " _  _  x \n",
      "\n",
      " _  o  _     O's move\n",
      "\n",
      " o  x  x \n",
      "\n",
      "\n",
      "\n",
      "134\n",
      "[0.39552238805970147, 0.22388059701492538, 0.1791044776119403, 0.20149253731343283]\n",
      "[3, 5, 7, 8]\n",
      "0\n",
      "3\n",
      " _  _  x \n",
      "\n",
      " _  o  o     X's move\n",
      "\n",
      " o  x  x \n",
      "\n",
      "\n",
      "\n",
      "153\n",
      "[0.5163398692810458, 0.24183006535947713, 0.24183006535947713]\n",
      "[5, 7, 8]\n",
      "0\n",
      "5\n",
      " _  _  x \n",
      "\n",
      " x  o  o     O's move\n",
      "\n",
      " o  x  x \n",
      "\n",
      "\n",
      "\n",
      "179\n",
      "[0.5027932960893855, 0.4972067039106145]\n",
      "[7, 8]\n",
      "0\n",
      "7\n",
      " _  o  x \n",
      "\n",
      " x  o  o     X's move\n",
      "\n",
      " o  x  x \n",
      "\n",
      "\n",
      "\n",
      "190\n",
      "[1.0]\n",
      "[8]\n",
      "0\n",
      "8\n",
      " x  o  x \n",
      "\n",
      " x  o  o     O's move\n",
      "\n",
      " o  x  x \n",
      "\n",
      "\n",
      "\n",
      " x  o  x \n",
      "\n",
      " x  o  o     O's move\n",
      "\n",
      " o  x  x \n",
      "\n",
      "\n",
      "\n"
     ]
    }
   ],
   "source": [
    "\"\"\"\n",
    "search = MCTS()\n",
    "\n",
    "while True:\n",
    "    game_over, value = search.board.is_game_over()\n",
    "    if game_over:\n",
    "        search.board.print()\n",
    "        break\n",
    "    \n",
    "    search.search()\n",
    "    print(search.n)\n",
    "    print(search.pi)\n",
    "    print(search.board.get_legal_moves())\n",
    "    child_choice = np.argmax(search.pi)\n",
    "    #child_choice = np.random.choice(len(search.pi), p=search.pi)\n",
    "    print(child_choice)\n",
    "    move_choice = search.children[child_choice].move\n",
    "    print(move_choice)\n",
    "    search = search.make_move(move_choice)\n",
    "    search.board.print()\n",
    "\"\"\"\n"
   ]
  }
 ],
 "metadata": {
  "kernelspec": {
   "display_name": "tf",
   "language": "python",
   "name": "tf"
  },
  "language_info": {
   "codemirror_mode": {
    "name": "ipython",
    "version": 3
   },
   "file_extension": ".py",
   "mimetype": "text/x-python",
   "name": "python",
   "nbconvert_exporter": "python",
   "pygments_lexer": "ipython3",
   "version": "3.9.17"
  }
 },
 "nbformat": 4,
 "nbformat_minor": 5
}
