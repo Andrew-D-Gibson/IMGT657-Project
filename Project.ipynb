{
 "cells": [
  {
   "cell_type": "code",
   "execution_count": 1,
   "id": "6139abea",
   "metadata": {},
   "outputs": [
    {
     "name": "stderr",
     "output_type": "stream",
     "text": [
      "2023-08-01 15:23:47.417428: I tensorflow/core/util/port.cc:110] oneDNN custom operations are on. You may see slightly different numerical results due to floating-point round-off errors from different computation orders. To turn them off, set the environment variable `TF_ENABLE_ONEDNN_OPTS=0`.\n",
      "2023-08-01 15:23:47.467789: I tensorflow/core/platform/cpu_feature_guard.cc:182] This TensorFlow binary is optimized to use available CPU instructions in performance-critical operations.\n",
      "To enable the following instructions: AVX2 AVX_VNNI FMA, in other operations, rebuild TensorFlow with the appropriate compiler flags.\n",
      "2023-08-01 15:23:48.169345: W tensorflow/compiler/tf2tensorrt/utils/py_utils.cc:38] TF-TRT Warning: Could not find TensorRT\n"
     ]
    }
   ],
   "source": [
    "import random     \n",
    "import numpy as np\n",
    "import tensorflow as tf\n",
    "\n",
    "from TicTacToe import TicTacToe\n",
    "from MCTS import MCTS\n",
    "from simulate_self_play_games import simulate_self_play_games\n",
    "from head_to_head_match import head_to_head_match\n",
    "from TrainingManager import TrainingManager\n",
    "\n",
    "from Config import *\n",
    "\n",
    "tf.compat.v1.disable_eager_execution()"
   ]
  },
  {
   "cell_type": "code",
   "execution_count": 2,
   "id": "61ccce85",
   "metadata": {},
   "outputs": [
    {
     "name": "stdout",
     "output_type": "stream",
     "text": [
      "\n",
      "\n",
      "--------- Episode  0  ---------\n",
      "Simulating games...\n"
     ]
    },
    {
     "name": "stderr",
     "output_type": "stream",
     "text": [
      "/home/drew/miniconda3/envs/tf/lib/python3.9/site-packages/keras/engine/training_v1.py:2359: UserWarning: `Model.state_updates` will be removed in a future version. This property should not be used in TensorFlow 2.0, as `updates` are applied automatically.\n",
      "  updates=self.state_updates,\n",
      "2023-08-01 15:23:54.779888: I tensorflow/compiler/xla/stream_executor/cuda/cuda_gpu_executor.cc:996] successful NUMA node read from SysFS had negative value (-1), but there must be at least one NUMA node, so returning NUMA node zero. See more at https://github.com/torvalds/linux/blob/v6.0/Documentation/ABI/testing/sysfs-bus-pci#L344-L355\n",
      "2023-08-01 15:23:54.807329: I tensorflow/compiler/xla/stream_executor/cuda/cuda_gpu_executor.cc:996] successful NUMA node read from SysFS had negative value (-1), but there must be at least one NUMA node, so returning NUMA node zero. See more at https://github.com/torvalds/linux/blob/v6.0/Documentation/ABI/testing/sysfs-bus-pci#L344-L355\n",
      "2023-08-01 15:23:54.807520: I tensorflow/compiler/xla/stream_executor/cuda/cuda_gpu_executor.cc:996] successful NUMA node read from SysFS had negative value (-1), but there must be at least one NUMA node, so returning NUMA node zero. See more at https://github.com/torvalds/linux/blob/v6.0/Documentation/ABI/testing/sysfs-bus-pci#L344-L355\n",
      "2023-08-01 15:23:54.811076: I tensorflow/compiler/xla/stream_executor/cuda/cuda_gpu_executor.cc:996] successful NUMA node read from SysFS had negative value (-1), but there must be at least one NUMA node, so returning NUMA node zero. See more at https://github.com/torvalds/linux/blob/v6.0/Documentation/ABI/testing/sysfs-bus-pci#L344-L355\n",
      "2023-08-01 15:23:54.811255: I tensorflow/compiler/xla/stream_executor/cuda/cuda_gpu_executor.cc:996] successful NUMA node read from SysFS had negative value (-1), but there must be at least one NUMA node, so returning NUMA node zero. See more at https://github.com/torvalds/linux/blob/v6.0/Documentation/ABI/testing/sysfs-bus-pci#L344-L355\n",
      "2023-08-01 15:23:54.811364: I tensorflow/compiler/xla/stream_executor/cuda/cuda_gpu_executor.cc:996] successful NUMA node read from SysFS had negative value (-1), but there must be at least one NUMA node, so returning NUMA node zero. See more at https://github.com/torvalds/linux/blob/v6.0/Documentation/ABI/testing/sysfs-bus-pci#L344-L355\n",
      "2023-08-01 15:23:54.881161: I tensorflow/compiler/xla/stream_executor/cuda/cuda_gpu_executor.cc:996] successful NUMA node read from SysFS had negative value (-1), but there must be at least one NUMA node, so returning NUMA node zero. See more at https://github.com/torvalds/linux/blob/v6.0/Documentation/ABI/testing/sysfs-bus-pci#L344-L355\n",
      "2023-08-01 15:23:54.881337: I tensorflow/compiler/xla/stream_executor/cuda/cuda_gpu_executor.cc:996] successful NUMA node read from SysFS had negative value (-1), but there must be at least one NUMA node, so returning NUMA node zero. See more at https://github.com/torvalds/linux/blob/v6.0/Documentation/ABI/testing/sysfs-bus-pci#L344-L355\n",
      "2023-08-01 15:23:54.881457: I tensorflow/compiler/xla/stream_executor/cuda/cuda_gpu_executor.cc:996] successful NUMA node read from SysFS had negative value (-1), but there must be at least one NUMA node, so returning NUMA node zero. See more at https://github.com/torvalds/linux/blob/v6.0/Documentation/ABI/testing/sysfs-bus-pci#L344-L355\n",
      "2023-08-01 15:23:54.881569: I tensorflow/core/common_runtime/gpu/gpu_device.cc:1635] Created device /job:localhost/replica:0/task:0/device:GPU:0 with 10223 MB memory:  -> device: 0, name: NVIDIA GeForce RTX 4080 Laptop GPU, pci bus id: 0000:01:00.0, compute capability: 8.9\n",
      "2023-08-01 15:23:54.896381: I tensorflow/compiler/mlir/mlir_graph_optimization_pass.cc:353] MLIR V1 optimization pass is not enabled\n",
      "2023-08-01 15:23:55.082043: W tensorflow/c/c_api.cc:300] Operation '{name:'count_3/Assign' id:141 op device:{requested: '', assigned: ''} def:{{{node count_3/Assign}} = AssignVariableOp[_has_manual_control_dependencies=true, dtype=DT_FLOAT, validate_shape=false](count_3, count_3/Initializer/zeros)}}' was changed by setting attribute after it was run by a session. This mutation will have no effect, and will trigger an error in the future. Either don't modify nodes after running them or create a new session.\n",
      "2023-08-01 15:23:55.170063: I tensorflow/compiler/xla/stream_executor/cuda/cuda_blas.cc:637] TensorFloat-32 will be used for the matrix multiplication. This will only be logged once.\n"
     ]
    },
    {
     "name": "stdout",
     "output_type": "stream",
     "text": [
      "1421 examples generated.\n",
      "\n",
      "Training on examples:\n"
     ]
    },
    {
     "name": "stderr",
     "output_type": "stream",
     "text": [
      "2023-08-01 15:25:11.907889: W tensorflow/c/c_api.cc:300] Operation '{name:'loss_1/AddN' id:547 op device:{requested: '', assigned: ''} def:{{{node loss_1/AddN}} = AddN[N=2, T=DT_FLOAT, _has_manual_control_dependencies=true](loss_1/mul, loss_1/mul_1)}}' was changed by setting attribute after it was run by a session. This mutation will have no effect, and will trigger an error in the future. Either don't modify nodes after running them or create a new session.\n",
      "2023-08-01 15:25:11.941095: W tensorflow/c/c_api.cc:300] Operation '{name:'training/Adam/policy_output_1/bias/v/Assign' id:817 op device:{requested: '', assigned: ''} def:{{{node training/Adam/policy_output_1/bias/v/Assign}} = AssignVariableOp[_has_manual_control_dependencies=true, dtype=DT_FLOAT, validate_shape=false](training/Adam/policy_output_1/bias/v, training/Adam/policy_output_1/bias/v/Initializer/zeros)}}' was changed by setting attribute after it was run by a session. This mutation will have no effect, and will trigger an error in the future. Either don't modify nodes after running them or create a new session.\n"
     ]
    },
    {
     "name": "stdout",
     "output_type": "stream",
     "text": [
      " Minibatch Policy Acc: 0.733286440372467, Value Acc: 0.4968332052230835\n",
      "New network against old network (testing for improvement): \n"
     ]
    },
    {
     "name": "stderr",
     "output_type": "stream",
     "text": [
      "2023-08-01 15:25:18.970508: W tensorflow/c/c_api.cc:300] Operation '{name:'policy_output_1/Softmax' id:349 op device:{requested: '', assigned: ''} def:{{{node policy_output_1/Softmax}} = Softmax[T=DT_FLOAT, _has_manual_control_dependencies=true](policy_output_1/BiasAdd)}}' was changed by setting attribute after it was run by a session. This mutation will have no effect, and will trigger an error in the future. Either don't modify nodes after running them or create a new session.\n"
     ]
    },
    {
     "name": "stdout",
     "output_type": "stream",
     "text": [
      "W/D/L: 9  /  7  /  4\n",
      "Replacing network!  Great success\n"
     ]
    },
    {
     "name": "stderr",
     "output_type": "stream",
     "text": [
      "2023-08-01 15:25:27.637647: I tensorflow/compiler/xla/stream_executor/cuda/cuda_gpu_executor.cc:996] successful NUMA node read from SysFS had negative value (-1), but there must be at least one NUMA node, so returning NUMA node zero. See more at https://github.com/torvalds/linux/blob/v6.0/Documentation/ABI/testing/sysfs-bus-pci#L344-L355\n",
      "2023-08-01 15:25:27.637849: I tensorflow/compiler/xla/stream_executor/cuda/cuda_gpu_executor.cc:996] successful NUMA node read from SysFS had negative value (-1), but there must be at least one NUMA node, so returning NUMA node zero. See more at https://github.com/torvalds/linux/blob/v6.0/Documentation/ABI/testing/sysfs-bus-pci#L344-L355\n",
      "2023-08-01 15:25:27.637958: I tensorflow/compiler/xla/stream_executor/cuda/cuda_gpu_executor.cc:996] successful NUMA node read from SysFS had negative value (-1), but there must be at least one NUMA node, so returning NUMA node zero. See more at https://github.com/torvalds/linux/blob/v6.0/Documentation/ABI/testing/sysfs-bus-pci#L344-L355\n",
      "2023-08-01 15:25:27.638116: I tensorflow/compiler/xla/stream_executor/cuda/cuda_gpu_executor.cc:996] successful NUMA node read from SysFS had negative value (-1), but there must be at least one NUMA node, so returning NUMA node zero. See more at https://github.com/torvalds/linux/blob/v6.0/Documentation/ABI/testing/sysfs-bus-pci#L344-L355\n",
      "2023-08-01 15:25:27.638225: I tensorflow/compiler/xla/stream_executor/cuda/cuda_gpu_executor.cc:996] successful NUMA node read from SysFS had negative value (-1), but there must be at least one NUMA node, so returning NUMA node zero. See more at https://github.com/torvalds/linux/blob/v6.0/Documentation/ABI/testing/sysfs-bus-pci#L344-L355\n",
      "2023-08-01 15:25:27.638317: I tensorflow/core/common_runtime/gpu/gpu_device.cc:1635] Created device /job:localhost/replica:0/task:0/device:GPU:0 with 10223 MB memory:  -> device: 0, name: NVIDIA GeForce RTX 4080 Laptop GPU, pci bus id: 0000:01:00.0, compute capability: 8.9\n"
     ]
    },
    {
     "name": "stdout",
     "output_type": "stream",
     "text": [
      "INFO:tensorflow:Assets written to: Networks/Episode_0/assets\n",
      "Best network against MCTS: \n",
      "W/D/L: 5  /  11  /  4\n",
      "Total episode time:  99.47745704650879\n",
      "\n",
      "\n",
      "--------- Episode  1  ---------\n",
      "Simulating games...\n",
      "1479 examples generated.\n",
      "\n",
      "Training on examples:\n",
      " Minibatch Policy Acc: 0.8356997966766357, Value Acc: 0.409736305475235\n",
      "New network against old network (testing for improvement): \n",
      "W/D/L: 10  /  6  /  4\n",
      "Replacing network!  Great success\n",
      "INFO:tensorflow:Assets written to: Networks/Episode_1/assets\n",
      "Best network against MCTS: \n",
      "W/D/L: 2  /  15  /  3\n",
      "Total episode time:  90.11857795715332\n"
     ]
    }
   ],
   "source": [
    "manager = TrainingManager()\n",
    "manager.train()"
   ]
  },
  {
   "cell_type": "code",
   "execution_count": 5,
   "id": "638dcbbe",
   "metadata": {
    "scrolled": true
   },
   "outputs": [
    {
     "name": "stdout",
     "output_type": "stream",
     "text": [
      "100\n",
      "[0.12, 0.12, 0.12, 0.09, 0.12, 0.11, 0.12, 0.1, 0.1]\n",
      "[0, 1, 2, 3, 4, 5, 6, 7, 8]\n",
      "0\n",
      "0\n",
      " _  _  _ \n",
      "\n",
      " _  _  _     O's move\n",
      "\n",
      " _  _  x \n",
      "\n",
      "\n",
      "\n",
      "112\n",
      "[0.11607142857142858, 0.13392857142857142, 0.11607142857142858, 0.14285714285714285, 0.13392857142857142, 0.125, 0.125, 0.10714285714285714]\n",
      "[1, 2, 3, 4, 5, 6, 7, 8]\n",
      "3\n",
      "4\n",
      " _  _  _ \n",
      "\n",
      " _  o  _     X's move\n",
      "\n",
      " _  _  x \n",
      "\n",
      "\n",
      "\n",
      "116\n",
      "[0.15517241379310345, 0.15517241379310345, 0.15517241379310345, 0.14655172413793102, 0.13793103448275862, 0.11206896551724138, 0.13793103448275862]\n",
      "[1, 2, 3, 5, 6, 7, 8]\n",
      "0\n",
      "1\n",
      " _  _  _ \n",
      "\n",
      " _  o  _     O's move\n",
      "\n",
      " _  x  x \n",
      "\n",
      "\n",
      "\n",
      "118\n",
      "[0.2033898305084746, 0.1694915254237288, 0.16101694915254236, 0.1864406779661017, 0.13559322033898305, 0.1440677966101695]\n",
      "[2, 3, 5, 6, 7, 8]\n",
      "0\n",
      "2\n",
      " _  _  _ \n",
      "\n",
      " _  o  _     X's move\n",
      "\n",
      " o  x  x \n",
      "\n",
      "\n",
      "\n",
      "124\n",
      "[0.20161290322580644, 0.1935483870967742, 0.27419354838709675, 0.1532258064516129, 0.1774193548387097]\n",
      "[3, 5, 6, 7, 8]\n",
      "2\n",
      "6\n",
      " _  _  x \n",
      "\n",
      " _  o  _     O's move\n",
      "\n",
      " o  x  x \n",
      "\n",
      "\n",
      "\n",
      "134\n",
      "[0.39552238805970147, 0.22388059701492538, 0.1791044776119403, 0.20149253731343283]\n",
      "[3, 5, 7, 8]\n",
      "0\n",
      "3\n",
      " _  _  x \n",
      "\n",
      " _  o  o     X's move\n",
      "\n",
      " o  x  x \n",
      "\n",
      "\n",
      "\n",
      "153\n",
      "[0.5163398692810458, 0.24183006535947713, 0.24183006535947713]\n",
      "[5, 7, 8]\n",
      "0\n",
      "5\n",
      " _  _  x \n",
      "\n",
      " x  o  o     O's move\n",
      "\n",
      " o  x  x \n",
      "\n",
      "\n",
      "\n",
      "179\n",
      "[0.5027932960893855, 0.4972067039106145]\n",
      "[7, 8]\n",
      "0\n",
      "7\n",
      " _  o  x \n",
      "\n",
      " x  o  o     X's move\n",
      "\n",
      " o  x  x \n",
      "\n",
      "\n",
      "\n",
      "190\n",
      "[1.0]\n",
      "[8]\n",
      "0\n",
      "8\n",
      " x  o  x \n",
      "\n",
      " x  o  o     O's move\n",
      "\n",
      " o  x  x \n",
      "\n",
      "\n",
      "\n",
      " x  o  x \n",
      "\n",
      " x  o  o     O's move\n",
      "\n",
      " o  x  x \n",
      "\n",
      "\n",
      "\n"
     ]
    }
   ],
   "source": [
    "\"\"\"\n",
    "search = MCTS()\n",
    "\n",
    "while True:\n",
    "    game_over, value = search.board.is_game_over()\n",
    "    if game_over:\n",
    "        search.board.print()\n",
    "        break\n",
    "    \n",
    "    search.search()\n",
    "    print(search.n)\n",
    "    print(search.pi)\n",
    "    print(search.board.get_legal_moves())\n",
    "    child_choice = np.argmax(search.pi)\n",
    "    #child_choice = np.random.choice(len(search.pi), p=search.pi)\n",
    "    print(child_choice)\n",
    "    move_choice = search.children[child_choice].move\n",
    "    print(move_choice)\n",
    "    search = search.make_move(move_choice)\n",
    "    search.board.print()\n",
    "\"\"\"\n"
   ]
  }
 ],
 "metadata": {
  "kernelspec": {
   "display_name": "tf",
   "language": "python",
   "name": "tf"
  },
  "language_info": {
   "codemirror_mode": {
    "name": "ipython",
    "version": 3
   },
   "file_extension": ".py",
   "mimetype": "text/x-python",
   "name": "python",
   "nbconvert_exporter": "python",
   "pygments_lexer": "ipython3",
   "version": "3.9.17"
  }
 },
 "nbformat": 4,
 "nbformat_minor": 5
}
